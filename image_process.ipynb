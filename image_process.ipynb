{
  "nbformat": 4,
  "nbformat_minor": 0,
  "metadata": {
    "colab": {
      "provenance": []
    },
    "kernelspec": {
      "name": "python3",
      "display_name": "Python 3"
    },
    "language_info": {
      "name": "python"
    }
  },
  "cells": [
    {
      "cell_type": "code",
      "source": [
        "import os\n",
        "from astropy.io import fits\n",
        "from google.colab import files"
      ],
      "metadata": {
        "id": "EQeam6mKQRoj"
      },
      "execution_count": null,
      "outputs": []
    },
    {
      "cell_type": "code",
      "source": [
        "!unzip Final.zip"
      ],
      "metadata": {
        "id": "hc-pbesUQbDL"
      },
      "execution_count": null,
      "outputs": []
    },
    {
      "cell_type": "code",
      "source": [
        "os.makedirs('Final_renamed')"
      ],
      "metadata": {
        "id": "os1K7ukhUxxG"
      },
      "execution_count": null,
      "outputs": []
    },
    {
      "cell_type": "code",
      "execution_count": null,
      "metadata": {
        "id": "_W23yoVoNIsd"
      },
      "outputs": [],
      "source": [
        "for file in os.listdir('/content/Final'):\n",
        "  with fits.open('/content/Final/' + file) as hdul:\n",
        "      # Access the header of the first extension (usually the image data)\n",
        "      header = hdul[0].header\n",
        "      name = header['object'].split(' ')\n",
        "      name = '_'.join(name)\n",
        "\n",
        "      color = header['filter']\n",
        "      year = header['UT-OBS'][2: 4]\n",
        "      month = header['UT-OBS'][5: 7]\n",
        "      day = header['UT-OBS'][8:10]\n",
        "\n",
        "      telescope = header['TELESCOP']\n",
        "\n",
        "      file_name = [name, year + month + day, telescope, color]\n",
        "      file_name = '-'.join(file_name)\n",
        "\n",
        "      print(f'File original name: {file}')\n",
        "      print(f'new image name: {file_name}')\n",
        "\n",
        "      os.rename('/content/Final/' + file, '/content/Final_renamed/' + file_name + '.FITS')"
      ]
    },
    {
      "cell_type": "code",
      "source": [
        "!zip -r Final_renamed.zip /content/Final_renamed"
      ],
      "metadata": {
        "id": "F4OSMkU6SfLI"
      },
      "execution_count": null,
      "outputs": []
    },
    {
      "cell_type": "code",
      "source": [
        "files.download('/content/Final_renamed.zip')"
      ],
      "metadata": {
        "colab": {
          "base_uri": "https://localhost:8080/",
          "height": 17
        },
        "id": "2SbbJjMfDQWh",
        "outputId": "340be8ea-fe7f-4665-93fa-9a5bca534886"
      },
      "execution_count": null,
      "outputs": [
        {
          "output_type": "display_data",
          "data": {
            "text/plain": [
              "<IPython.core.display.Javascript object>"
            ],
            "application/javascript": [
              "\n",
              "    async function download(id, filename, size) {\n",
              "      if (!google.colab.kernel.accessAllowed) {\n",
              "        return;\n",
              "      }\n",
              "      const div = document.createElement('div');\n",
              "      const label = document.createElement('label');\n",
              "      label.textContent = `Downloading \"${filename}\": `;\n",
              "      div.appendChild(label);\n",
              "      const progress = document.createElement('progress');\n",
              "      progress.max = size;\n",
              "      div.appendChild(progress);\n",
              "      document.body.appendChild(div);\n",
              "\n",
              "      const buffers = [];\n",
              "      let downloaded = 0;\n",
              "\n",
              "      const channel = await google.colab.kernel.comms.open(id);\n",
              "      // Send a message to notify the kernel that we're ready.\n",
              "      channel.send({})\n",
              "\n",
              "      for await (const message of channel.messages) {\n",
              "        // Send a message to notify the kernel that we're ready.\n",
              "        channel.send({})\n",
              "        if (message.buffers) {\n",
              "          for (const buffer of message.buffers) {\n",
              "            buffers.push(buffer);\n",
              "            downloaded += buffer.byteLength;\n",
              "            progress.value = downloaded;\n",
              "          }\n",
              "        }\n",
              "      }\n",
              "      const blob = new Blob(buffers, {type: 'application/binary'});\n",
              "      const a = document.createElement('a');\n",
              "      a.href = window.URL.createObjectURL(blob);\n",
              "      a.download = filename;\n",
              "      div.appendChild(a);\n",
              "      a.click();\n",
              "      div.remove();\n",
              "    }\n",
              "  "
            ]
          },
          "metadata": {}
        },
        {
          "output_type": "display_data",
          "data": {
            "text/plain": [
              "<IPython.core.display.Javascript object>"
            ],
            "application/javascript": [
              "download(\"download_53d78a3d-7eed-46b4-bcbd-0db2e8830d20\", \"Final_renamed.zip\", 2399523)"
            ]
          },
          "metadata": {}
        }
      ]
    }
  ]
}