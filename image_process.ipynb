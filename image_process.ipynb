{
  "nbformat": 4,
  "nbformat_minor": 0,
  "metadata": {
    "colab": {
      "provenance": []
    },
    "kernelspec": {
      "name": "python3",
      "display_name": "Python 3"
    },
    "language_info": {
      "name": "python"
    }
  },
  "cells": [
    {
      "cell_type": "code",
      "source": [
        "import os\n",
        "from astropy.io import fits\n",
        "from google.colab import files"
      ],
      "metadata": {
        "id": "EQeam6mKQRoj"
      },
      "execution_count": null,
      "outputs": []
    },
    {
      "cell_type": "markdown",
      "source": [
        "Unzip the uploaded zip file, make sure to change < name_of_the_file > to the name of the uploaded zip file"
      ],
      "metadata": {
        "id": "4l9nNiP1q783"
      }
    },
    {
      "cell_type": "code",
      "source": [
        "!unzip <name_of_the_file>.zip"
      ],
      "metadata": {
        "id": "hc-pbesUQbDL"
      },
      "execution_count": null,
      "outputs": []
    },
    {
      "cell_type": "markdown",
      "source": [
        "Make a new directory, can change File_name to other directory name"
      ],
      "metadata": {
        "id": "la2qC2WMrL91"
      }
    },
    {
      "cell_type": "code",
      "source": [
        "os.makedirs('File_name')"
      ],
      "metadata": {
        "id": "os1K7ukhUxxG"
      },
      "execution_count": null,
      "outputs": []
    },
    {
      "cell_type": "markdown",
      "source": [
        "Make sure to change < name_of_the_file > to the name of the uploaded zip file, and change File_name to the new directory name if the new directory name is changed in \"os.makedirs('File_name')\""
      ],
      "metadata": {
        "id": "lN5jx-YNrq07"
      }
    },
    {
      "cell_type": "code",
      "execution_count": null,
      "metadata": {
        "id": "_W23yoVoNIsd"
      },
      "outputs": [],
      "source": [
        "for file in os.listdir('/content/<name_of_the_file>'):\n",
        "  with fits.open('/content/<name_of_the_file>/' + file) as hdul:\n",
        "      # Access the header of the first extension (usually the image data)\n",
        "      header = hdul[0].header\n",
        "      name = header['object'].split(' ')\n",
        "      name = '_'.join(name)\n",
        "\n",
        "      color = header['filter']\n",
        "      year = header['UT-OBS'][2: 4]\n",
        "      month = header['UT-OBS'][5: 7]\n",
        "      day = header['UT-OBS'][8:10]\n",
        "\n",
        "      telescope = header['TELESCOP']\n",
        "\n",
        "      file_name = [name, year + month + day, telescope, color]\n",
        "      file_name = '-'.join(file_name)\n",
        "\n",
        "      print(f'File original name: {file}')\n",
        "      print(f'new image name: {file_name}')\n",
        "\n",
        "      os.rename('/content/<name_of_the_file>/' + file, '/content/File_name/' + file_name + '.FITS')"
      ]
    },
    {
      "cell_type": "code",
      "source": [
        "!zip -r File_name.zip /content/File_name"
      ],
      "metadata": {
        "id": "F4OSMkU6SfLI"
      },
      "execution_count": null,
      "outputs": []
    },
    {
      "cell_type": "code",
      "source": [
        "files.download('/content/File_name.zip')"
      ],
      "metadata": {
        "id": "2SbbJjMfDQWh"
      },
      "execution_count": null,
      "outputs": []
    }
  ]
}